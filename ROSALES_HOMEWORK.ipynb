{
  "cells": [
    {
      "cell_type": "markdown",
      "metadata": {
        "id": "OhWhQ7iOp5m3"
      },
      "source": [
        "\n",
        "        \n",
        "<div>\n",
        "\t\t\t<h2 style =\" margin-top: 5px;\" >&emsp;&emsp;&emsp;&emsp;Name: Frances Aneth Rosales <br> &emsp;&emsp;&emsp;&emsp;Student Number: 2021044631 <br> &emsp;&emsp;&emsp;&emsp;<b>PYTHON IN INTEGRAL AND DERIVATIVES (PID) </b>  </h2>\n",
        "</div>\n",
        "\t\t<br><br><br>\n",
        "        \n",
        "        \n"
      ]
    },
    {
      "cell_type": "markdown",
      "metadata": {
        "id": "S96qPl5_p5m6"
      },
      "source": [
        "\n",
        "<b>\n",
        "<a href=\"#sectionlang\">  POINT OF DERIVATIVE </a></li> <BR>\n",
        "<a href=\"#sectionlang\">  1. Trapezoidal Rule </a></li> <BR>\n",
        "<a href=\"#sectiondiff\">  2. Simpson's Rule </a></li><BR>\n",
        "</b>"
      ]
    },
    {
      "cell_type": "markdown",
      "metadata": {},
      "source": [
        "<br>\n",
        "<br>\n",
        "\n",
        "# POINT OF DERIVATIVE\n",
        "\n",
        "\n",
        "\n",
        "\n",
        "<section id=\"sectionlang\"> </section>\n"
      ]
    },
    {
      "cell_type": "code",
      "execution_count": null,
      "metadata": {},
      "outputs": [],
      "source": [
        "import math\n",
        "\n",
        "# f'(x) USING 3POINT\n",
        "def derivative_first_3point(f, x, h):\n",
        "    return (f(x + h) - f(x - h)) / (2 * h)\n",
        "\n",
        "# f''(x) USING 3POINT\n",
        "def derivative_second_3point(f, x, h):\n",
        "    return (f(x + h) - 2 * f(x) + f(x - h)) / (h**2)\n",
        "\n",
        "# f'(x) USING 5POINT\n",
        "def derivative_first_5point(f, x, h):\n",
        "    return (-f(x + 2*h) + 8*f(x + h) - 8*f(x - h) + f(x - 2*h)) / (12 * h)\n",
        "\n",
        "# f''(x) USING 5POINT\n",
        "def derivative_second_5point(f, x, h):\n",
        "    return (-f(x + 2*h) + 16*f(x + h) - 30*f(x) + 16*f(x - h) - f(x - 2*h)) / (12 * h**2)\n",
        "\n",
        "# GIVEN FUNCTION\n",
        "def f(x):\n",
        "    return x**2 * math.cos(x)\n",
        "\n",
        "# INITIALIZATIONS\n",
        "x = float(input(\"Enter the value of x: \"))\n",
        "h = float(input(\"Enter the value of h: \"))\n",
        "\n",
        "# APPLICATION OF DEFINITION \n",
        "approximation_3point_first = derivative_first_3point(f, x, h)\n",
        "approximation_5point_first = derivative_first_5point(f, x, h)\n",
        "\n",
        "# APPLICATION OF DEFINITION \n",
        "approximation_3point_second = derivative_second_3point(f, x, h)\n",
        "approximation_5point_second = derivative_second_5point(f, x, h)\n",
        "\n",
        "print(\"FUNCTION GIVEN:\", f)\n",
        "print(\"VALUE OF x:\", x)\n",
        "print(\"VALUE OF h:\", h)\n",
        "print(\"APPPROX f'(x) USING 3POINT:\", approximation_3point_first)\n",
        "print(\"APPPROX f'(x) USING 5POINT:\", approximation_5point_first)\n",
        "print(\"APPPROX f''(x) USING 3POINT:\", approximation_3point_second)\n",
        "print(\"APPPROX f'(x) USING 5POINT:\", approximation_5point_second)\n"
      ]
    },
    {
      "cell_type": "markdown",
      "metadata": {
        "id": "aJuJpYkCp5m7"
      },
      "source": [
        "<br>\n",
        "<br>\n",
        "\n",
        "# Trapezoidal Rule\n",
        "\n",
        "\n",
        "\n",
        "\n",
        "\n",
        "<section id=\"sectionlang\"> </section>\n"
      ]
    },
    {
      "cell_type": "code",
      "execution_count": 9,
      "metadata": {},
      "outputs": [
        {
          "name": "stdout",
          "output_type": "stream",
          "text": [
            "Given lower bound: 0\n",
            "Given uppper bound: 0.7853981633974483\n",
            "Inputed value of n: 6\n",
            "Composite Trapezoidal Rule: 0.13365227299494542\n"
          ]
        }
      ],
      "source": [
        "import math\n",
        "\n",
        "# FORMULA\n",
        "def composite_trapezoidal(f, a, b, n):\n",
        "    h = (b - a) / n  # Calculate the step size correctly\n",
        "    result = h * (f(a) + f(b)) / 2\n",
        "    for i in range(1, n):\n",
        "        result += h * f(a + i*h)\n",
        "    return result\n",
        "\n",
        "# DEFINE F(X)\n",
        "def get_function():\n",
        "    expression = input(\"Enter the function f(x) in terms of math module functions: \")\n",
        "    def f(x):\n",
        "        return eval(expression)\n",
        "    return f\n",
        "\n",
        "a = 0\n",
        "b = math.pi / 4 \n",
        "\n",
        "n = int(input(\"Enter the number of subintervals: \"))\n",
        "\n",
        "f = get_function()\n",
        "\n",
        "approximation = composite_trapezoidal(f, a, b, n)\n",
        "print(\"Given lower bound(Approx.):\", a)\n",
        "print(\"Given uppper bound (Approx.):\", b)\n",
        "print(\"Inputed value of n:\", n)\n",
        "print(\"Composite Trapezoidal Rule:\", approximation)\n"
      ]
    },
    {
      "cell_type": "markdown",
      "metadata": {
        "id": "uYIEYlZJp5m8"
      },
      "source": [
        "\n",
        "<br>\n",
        "<br>\n",
        "\n",
        "#  Simpson's Rule\n",
        "\n",
        "\n",
        "\n",
        "\n",
        "\n",
        "\n",
        "<section id=\"sectiondiff\"> </section>"
      ]
    },
    {
      "cell_type": "code",
      "execution_count": 8,
      "metadata": {
        "colab": {
          "base_uri": "https://localhost:8080/"
        },
        "id": "_sstytJ5p5m9",
        "outputId": "c589453d-c883-4f4b-ccca-db513c2d7ecc"
      },
      "outputs": [
        {
          "name": "stdout",
          "output_type": "stream",
          "text": [
            "Approximation using Simpson's Rule: 0.13267447649323375\n"
          ]
        }
      ],
      "source": [
        "import math\n",
        "\n",
        "# FORMULA\n",
        "def simpsons_rule(f, a, b, n):\n",
        "    h = (b - a) / n\n",
        "    result = f(a) + f(b)\n",
        "    for i in range(1, n, 2):\n",
        "        result += 4 * f(a + i*h)\n",
        "    for i in range(2, n-1, 2):\n",
        "        result += 2 * f(a + i*h)\n",
        "    result *= h / 3\n",
        "    return result\n",
        "\n",
        "# DEFINE F(X)\n",
        "def get_function():\n",
        "    expression = input(\"Enter the function f(x) in terms of math module functions: \")\n",
        "    def f(x):\n",
        "        return eval(expression)\n",
        "    return f\n",
        "\n",
        "\n",
        "a = 0\n",
        "b = math.pi / 4 \n",
        "n = int(input(\"Enter the number of subintervals: \"))\n",
        "\n",
        "f = get_function()\n",
        "\n",
        "approximation = simpsons_rule(f, a, b, n)\n",
        "print(\"Given lower bound(Approx.):\", a)\n",
        "print(\"Given uppper bound (Approx.):\", b)\n",
        "print(\"Inputed value of n:\", n)\n",
        "print(\"Approximation using Simpson's Rule:\", approximation)\n"
      ]
    }
  ],
  "metadata": {
    "colab": {
      "provenance": []
    },
    "kernelspec": {
      "display_name": "Python 3",
      "language": "python",
      "name": "python3"
    },
    "language_info": {
      "codemirror_mode": {
        "name": "ipython",
        "version": 3
      },
      "file_extension": ".py",
      "mimetype": "text/x-python",
      "name": "python",
      "nbconvert_exporter": "python",
      "pygments_lexer": "ipython3",
      "version": "3.11.3"
    }
  },
  "nbformat": 4,
  "nbformat_minor": 0
}
